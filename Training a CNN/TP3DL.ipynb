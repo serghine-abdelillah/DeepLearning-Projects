{
  "nbformat": 4,
  "nbformat_minor": 0,
  "metadata": {
    "colab": {
      "provenance": []
    },
    "kernelspec": {
      "name": "python3",
      "display_name": "Python 3"
    },
    "language_info": {
      "name": "python"
    }
  },
  "cells": [
    {
      "cell_type": "code",
      "execution_count": null,
      "metadata": {
        "colab": {
          "base_uri": "https://localhost:8080/"
        },
        "id": "XU5pJhSrxsy9",
        "outputId": "cb83380b-86c6-4de0-a345-d4ab7fa3a084"
      },
      "outputs": [
        {
          "output_type": "stream",
          "name": "stdout",
          "text": [
            "Downloading data from https://www.cs.toronto.edu/~kriz/cifar-10-python.tar.gz\n",
            "\u001b[1m170498071/170498071\u001b[0m \u001b[32m━━━━━━━━━━━━━━━━━━━━\u001b[0m\u001b[37m\u001b[0m \u001b[1m4s\u001b[0m 0us/step\n"
          ]
        }
      ],
      "source": [
        "from tensorflow.keras.datasets import cifar10\n",
        "from tensorflow.keras.utils import to_categorical\n",
        "from tensorflow.keras.preprocessing.image import ImageDataGenerator\n",
        "import numpy as np\n",
        "\n",
        "# Load the data\n",
        "(x_train, y_train), (x_test, y_test) = cifar10.load_data()\n",
        "\n",
        "# Normalize pixel values\n",
        "x_train = x_train.astype('float32') / 255.0\n",
        "x_test = x_test.astype('float32') / 255.0\n",
        "\n",
        "# One-hot encode the labels\n",
        "y_train = to_categorical(y_train, 10)\n",
        "y_test = to_categorical(y_test, 10)\n",
        "\n",
        "# Data augmentation (optional for now)\n",
        "datagen = ImageDataGenerator(\n",
        "    rotation_range=15,\n",
        "    horizontal_flip=True,\n",
        "    width_shift_range=0.1,\n",
        "    height_shift_range=0.1\n",
        ")\n",
        "datagen.fit(x_train)\n"
      ]
    },
    {
      "cell_type": "code",
      "source": [
        "from tensorflow.keras.models import Sequential\n",
        "from tensorflow.keras.layers import Conv2D, MaxPooling2D, Flatten, Dense\n",
        "\n",
        "model = Sequential([\n",
        "    Conv2D(16, (3, 3), activation='relu', padding='valid', input_shape=(32, 32, 3)),\n",
        "    Conv2D(16, (3, 3), activation='relu', padding='valid'),\n",
        "    MaxPooling2D(pool_size=(2, 2)),\n",
        "\n",
        "    Conv2D(32, (3, 3), activation='relu', padding='valid'),\n",
        "    Conv2D(32, (3, 3), activation='relu', padding='valid'),\n",
        "    MaxPooling2D(pool_size=(2, 2)),\n",
        "\n",
        "    Flatten(),\n",
        "    Dense(10, activation='softmax')\n",
        "])\n"
      ],
      "metadata": {
        "colab": {
          "base_uri": "https://localhost:8080/"
        },
        "id": "BnzE8L9ryWiU",
        "outputId": "6c618ba6-c58e-490d-d6c9-fd371b9a3f29"
      },
      "execution_count": null,
      "outputs": [
        {
          "output_type": "stream",
          "name": "stderr",
          "text": [
            "/usr/local/lib/python3.11/dist-packages/keras/src/layers/convolutional/base_conv.py:107: UserWarning: Do not pass an `input_shape`/`input_dim` argument to a layer. When using Sequential models, prefer using an `Input(shape)` object as the first layer in the model instead.\n",
            "  super().__init__(activity_regularizer=activity_regularizer, **kwargs)\n"
          ]
        }
      ]
    },
    {
      "cell_type": "code",
      "source": [
        "from tensorflow.keras.optimizers import Adam\n",
        "\n",
        "model.compile(\n",
        "    optimizer=Adam(),\n",
        "    loss='categorical_crossentropy',\n",
        "    metrics=['accuracy']\n",
        ")\n",
        "\n",
        "history = model.fit(\n",
        "    datagen.flow(x_train, y_train, batch_size=64),\n",
        "    epochs=5,\n",
        "    validation_data=(x_test, y_test)\n",
        ")\n"
      ],
      "metadata": {
        "colab": {
          "base_uri": "https://localhost:8080/"
        },
        "id": "n0Qoqktgyl5A",
        "outputId": "16358cc6-8659-4ec3-af80-e4703ceca7e8"
      },
      "execution_count": null,
      "outputs": [
        {
          "metadata": {
            "tags": null
          },
          "name": "stderr",
          "output_type": "stream",
          "text": [
            "/usr/local/lib/python3.11/dist-packages/keras/src/trainers/data_adapters/py_dataset_adapter.py:121: UserWarning: Your `PyDataset` class should call `super().__init__(**kwargs)` in its constructor. `**kwargs` can include `workers`, `use_multiprocessing`, `max_queue_size`. Do not pass these arguments to `fit()`, as they will be ignored.\n",
            "  self._warn_if_super_not_called()\n"
          ]
        },
        {
          "output_type": "stream",
          "name": "stdout",
          "text": [
            "Epoch 1/5\n",
            "\u001b[1m782/782\u001b[0m \u001b[32m━━━━━━━━━━━━━━━━━━━━\u001b[0m\u001b[37m\u001b[0m \u001b[1m100s\u001b[0m 124ms/step - accuracy: 0.2966 - loss: 1.9181 - val_accuracy: 0.4631 - val_loss: 1.4696\n",
            "Epoch 2/5\n",
            "\u001b[1m782/782\u001b[0m \u001b[32m━━━━━━━━━━━━━━━━━━━━\u001b[0m\u001b[37m\u001b[0m \u001b[1m140s\u001b[0m 121ms/step - accuracy: 0.4632 - loss: 1.4738 - val_accuracy: 0.5381 - val_loss: 1.2993\n",
            "Epoch 3/5\n",
            "\u001b[1m782/782\u001b[0m \u001b[32m━━━━━━━━━━━━━━━━━━━━\u001b[0m\u001b[37m\u001b[0m \u001b[1m95s\u001b[0m 121ms/step - accuracy: 0.5120 - loss: 1.3579 - val_accuracy: 0.5836 - val_loss: 1.1801\n",
            "Epoch 4/5\n",
            "\u001b[1m782/782\u001b[0m \u001b[32m━━━━━━━━━━━━━━━━━━━━\u001b[0m\u001b[37m\u001b[0m \u001b[1m93s\u001b[0m 119ms/step - accuracy: 0.5452 - loss: 1.2661 - val_accuracy: 0.6117 - val_loss: 1.1026\n",
            "Epoch 5/5\n",
            "\u001b[1m782/782\u001b[0m \u001b[32m━━━━━━━━━━━━━━━━━━━━\u001b[0m\u001b[37m\u001b[0m \u001b[1m95s\u001b[0m 121ms/step - accuracy: 0.5766 - loss: 1.1967 - val_accuracy: 0.5935 - val_loss: 1.1841\n"
          ]
        }
      ]
    },
    {
      "cell_type": "code",
      "source": [
        "# from tensorflow.keras.models import Sequential\n",
        "# from tensorflow.keras.layers import Conv2D, MaxPooling2D, Flatten, Dense, Dropout, BatchNormalization\n",
        "# from tensorflow.keras.optimizers import Adam\n",
        "\n",
        "# # Build the model\n",
        "# improved_model = Sequential()\n",
        "\n",
        "# # Input + First Conv Block\n",
        "# improved_model.add(Conv2D(32, (3, 3), activation='relu', padding='same', input_shape=(32, 32, 3)))\n",
        "# improved_model.add(BatchNormalization())\n",
        "# improved_model.add(Conv2D(32, (3, 3), activation='relu', padding='same'))\n",
        "# improved_model.add(BatchNormalization())\n",
        "# improved_model.add(MaxPooling2D(pool_size=(2, 2)))\n",
        "# improved_model.add(Dropout(0.2))\n",
        "\n",
        "# # Second Conv Block\n",
        "# improved_model.add(Conv2D(64, (3, 3), activation='relu', padding='same'))\n",
        "# improved_model.add(BatchNormalization())\n",
        "# improved_model.add(Conv2D(64, (3, 3), activation='relu', padding='same'))\n",
        "# improved_model.add(BatchNormalization())\n",
        "# improved_model.add(MaxPooling2D(pool_size=(2, 2)))\n",
        "# improved_model.add(Dropout(0.3))\n",
        "\n",
        "# # Third Conv Block\n",
        "# improved_model.add(Conv2D(128, (3, 3), activation='relu', padding='same'))\n",
        "# improved_model.add(BatchNormalization())\n",
        "# improved_model.add(Conv2D(128, (3, 3), activation='relu', padding='same'))\n",
        "# improved_model.add(BatchNormalization())\n",
        "# improved_model.add(MaxPooling2D(pool_size=(2, 2)))\n",
        "# improved_model.add(Dropout(0.4))\n",
        "\n",
        "# # Fully connected layers\n",
        "# improved_model.add(Flatten())\n",
        "# improved_model.add(Dense(128, activation='relu'))\n",
        "# improved_model.add(BatchNormalization())\n",
        "# improved_model.add(Dropout(0.5))\n",
        "# improved_model.add(Dense(10, activation='softmax'))\n",
        "\n",
        "# # Compile the model with lower learning rate\n",
        "# optimizer = Adam(learning_rate=0.0005)\n",
        "# improved_model.compile(optimizer=optimizer, loss='categorical_crossentropy', metrics=['accuracy'])\n",
        "\n",
        "# # Train the model\n",
        "# history2 = improved_model.fit(\n",
        "#     datagen.flow(x_train, y_train, batch_size=64),\n",
        "#     epochs=5,\n",
        "#     validation_data=(x_test, y_test),\n",
        "#     verbose=1\n",
        "# )\n"
      ],
      "metadata": {
        "id": "cnxqjVD9OcQ_"
      },
      "execution_count": null,
      "outputs": []
    },
    {
      "cell_type": "code",
      "source": [
        "# import matplotlib.pyplot as plt\n",
        "\n",
        "# def plot_history(hist, title):\n",
        "#     plt.figure(figsize=(12, 4))\n",
        "\n",
        "#     # Accuracy\n",
        "#     plt.subplot(1, 2, 1)\n",
        "#     plt.plot(hist.history['accuracy'], label='Train')\n",
        "#     plt.plot(hist.history['val_accuracy'], label='Test')\n",
        "#     plt.title(title + \" Accuracy\")\n",
        "#     plt.legend()\n",
        "\n",
        "#     # Loss\n",
        "#     plt.subplot(1, 2, 2)\n",
        "#     plt.plot(hist.history['loss'], label='Train')\n",
        "#     plt.plot(hist.history['val_loss'], label='Test')\n",
        "#     plt.title(title + \" Loss\")\n",
        "#     plt.legend()\n",
        "\n",
        "#     plt.show()\n",
        "\n",
        "# plot_history(history, \"Initial CNN\")\n",
        "# plot_history(history2, \"Improved CNN\")\n"
      ],
      "metadata": {
        "id": "7kJs0eU21KNK"
      },
      "execution_count": null,
      "outputs": []
    },
    {
      "cell_type": "code",
      "source": [
        "\n",
        "from tensorflow.keras.layers import Dropout\n",
        "from tensorflow.keras.models import Sequential\n",
        "from tensorflow.keras.layers import Conv2D, MaxPooling2D, Flatten, Dense, BatchNormalization\n",
        "from tensorflow.keras.optimizers import Adam\n",
        "\n",
        "def create_improved_cnn():\n",
        "    model = Sequential([\n",
        "        Conv2D(32, (3, 3), padding='same', activation='relu', input_shape=(32, 32, 3)),\n",
        "        BatchNormalization(),\n",
        "        Conv2D(32, (3, 3), padding='same', activation='relu'),\n",
        "        BatchNormalization(),\n",
        "        MaxPooling2D((2, 2)),\n",
        "        Dropout(0.15),\n",
        "\n",
        "        Conv2D(64, (3, 3), padding='same', activation='relu'),\n",
        "        BatchNormalization(),\n",
        "        Conv2D(64, (3, 3), padding='same', activation='relu'),\n",
        "        BatchNormalization(),\n",
        "        MaxPooling2D((2, 2)),\n",
        "        Dropout(0.2),\n",
        "\n",
        "        Conv2D(128, (3, 3), padding='same', activation='relu'),\n",
        "        BatchNormalization(),\n",
        "        Conv2D(128, (3, 3), padding='same', activation='relu'),\n",
        "        BatchNormalization(),\n",
        "        MaxPooling2D((2, 2)),\n",
        "        Dropout(0.25),\n",
        "\n",
        "        # Classifier\n",
        "        Flatten(),\n",
        "        Dense(128, activation='relu'),\n",
        "        BatchNormalization(),\n",
        "        Dropout(0.35),\n",
        "        Dense(10, activation='softmax')\n",
        "    ])\n",
        "\n",
        "    return model\n",
        "\n"
      ],
      "metadata": {
        "id": "biq6HVmIYYw0"
      },
      "execution_count": null,
      "outputs": []
    },
    {
      "cell_type": "code",
      "source": [
        "# # 1- Load the cifar-10 dataset and perform pre-processing: data normalization and\n",
        "# # data augmentation.\n",
        "\n",
        "# # Load CIFAR-10 dataset\n",
        "# (X_train, y_train), (X_test, y_test) = cifar10.load_data()\n",
        "\n",
        "# # Normalize pixel values to [0, 1]\n",
        "# X_train = X_train.astype('float32') / 255.0\n",
        "# X_test = X_test.astype('float32') / 255.0\n",
        "\n",
        "# # Convert labels to one-hot encoding\n",
        "# y_train = to_categorical(y_train, 10)\n",
        "# y_test = to_categorical(y_test, 10)\n",
        "\n",
        "# # Data augmentation\n",
        "# train_datagen = ImageDataGenerator(\n",
        "#     rotation_range=15,\n",
        "#     width_shift_range=0.1,\n",
        "#     height_shift_range=0.1,\n",
        "#     horizontal_flip=True,\n",
        "#     zoom_range=0.2\n",
        "# )\n",
        "\n",
        "# datagen.fit(X_train)"
      ],
      "metadata": {
        "id": "Q33hiDJnpuYU"
      },
      "execution_count": null,
      "outputs": []
    },
    {
      "cell_type": "code",
      "source": [
        "import matplotlib.pyplot as plt\n",
        "\n",
        "model_imp = create_improved_cnn()\n",
        "model_imp.compile(optimizer=Adam(learning_rate=0.001),\n",
        "                      loss='categorical_crossentropy',\n",
        "                      metrics=['accuracy'])\n",
        "\n",
        "history_improved = model_imp.fit(datagen.flow(x_train, y_train, batch_size=64),\n",
        "                            epochs=5,\n",
        "                            validation_data=(x_test, y_test),\n",
        "                            verbose=1)\n",
        "\n",
        "\n"
      ],
      "metadata": {
        "colab": {
          "base_uri": "https://localhost:8080/"
        },
        "id": "Dugr4g3HYmDx",
        "outputId": "bad5a7f6-8c8c-464c-e5f1-678593f3c0fe"
      },
      "execution_count": null,
      "outputs": [
        {
          "metadata": {
            "tags": null
          },
          "name": "stderr",
          "output_type": "stream",
          "text": [
            "/usr/local/lib/python3.11/dist-packages/keras/src/layers/convolutional/base_conv.py:107: UserWarning: Do not pass an `input_shape`/`input_dim` argument to a layer. When using Sequential models, prefer using an `Input(shape)` object as the first layer in the model instead.\n",
            "  super().__init__(activity_regularizer=activity_regularizer, **kwargs)\n",
            "/usr/local/lib/python3.11/dist-packages/keras/src/trainers/data_adapters/py_dataset_adapter.py:121: UserWarning: Your `PyDataset` class should call `super().__init__(**kwargs)` in its constructor. `**kwargs` can include `workers`, `use_multiprocessing`, `max_queue_size`. Do not pass these arguments to `fit()`, as they will be ignored.\n",
            "  self._warn_if_super_not_called()\n"
          ]
        },
        {
          "output_type": "stream",
          "name": "stdout",
          "text": [
            "Epoch 1/5\n",
            "\u001b[1m782/782\u001b[0m \u001b[32m━━━━━━━━━━━━━━━━━━━━\u001b[0m\u001b[37m\u001b[0m \u001b[1m480s\u001b[0m 604ms/step - accuracy: 0.3618 - loss: 1.9230 - val_accuracy: 0.5447 - val_loss: 1.3775\n",
            "Epoch 2/5\n",
            "\u001b[1m782/782\u001b[0m \u001b[32m━━━━━━━━━━━━━━━━━━━━\u001b[0m\u001b[37m\u001b[0m \u001b[1m500s\u001b[0m 601ms/step - accuracy: 0.5896 - loss: 1.1503 - val_accuracy: 0.6573 - val_loss: 0.9932\n",
            "Epoch 3/5\n",
            "\u001b[1m782/782\u001b[0m \u001b[32m━━━━━━━━━━━━━━━━━━━━\u001b[0m\u001b[37m\u001b[0m \u001b[1m500s\u001b[0m 599ms/step - accuracy: 0.6612 - loss: 0.9599 - val_accuracy: 0.7405 - val_loss: 0.7388\n",
            "Epoch 4/5\n",
            "\u001b[1m782/782\u001b[0m \u001b[32m━━━━━━━━━━━━━━━━━━━━\u001b[0m\u001b[37m\u001b[0m \u001b[1m503s\u001b[0m 600ms/step - accuracy: 0.7030 - loss: 0.8547 - val_accuracy: 0.7328 - val_loss: 0.7856\n",
            "Epoch 5/5\n",
            "\u001b[1m782/782\u001b[0m \u001b[32m━━━━━━━━━━━━━━━━━━━━\u001b[0m\u001b[37m\u001b[0m \u001b[1m460s\u001b[0m 588ms/step - accuracy: 0.7273 - loss: 0.7808 - val_accuracy: 0.7389 - val_loss: 0.7988\n"
          ]
        }
      ]
    }
  ]
}