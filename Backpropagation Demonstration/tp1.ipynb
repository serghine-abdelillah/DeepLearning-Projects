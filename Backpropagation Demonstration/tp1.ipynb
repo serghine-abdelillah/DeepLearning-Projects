{
 "cells": [
  {
   "cell_type": "markdown",
   "metadata": {},
   "source": [
    "# Lab 1 Report and Demonstration of Backpropagation\n",
    "\n",
    "## Student Information\n",
    "- **Name:** Abdelillah Serghine  \n",
    "- **Email:** a.serghine@esi-sba.dz  \n",
    "- **Group:** 02 IASD  \n",
    "\n",
    "---\n",
    "\n",
    "## Computing the Gradient $\\frac{\\partial J}{\\partial w_1}$ using Backpropagation\n",
    "\n",
    "### Forward Pass Equations\n",
    "From the course, we have the following equations:\n",
    "$$\n",
    "    z_1 = w_1 x_1,  \n",
    "    \\quad a_1 = \\sigma(z_1),  \n",
    "    \\quad z_2 = w_2 a_1,  \n",
    "    \\quad \\hat{y} = \\sigma(z_2),  \n",
    "    \\quad J = \\frac{1}{n} \\sum_{i=1}^{n} L(\\hat{y}, y),  \n",
    "$$\n",
    "where $\\sigma(z)$ is the activation function (assumed to be the sigmoid function in this case).\n",
    "\n",
    "---\n",
    "\n",
    "## Applying the Chain Rule\n",
    "Using the chain rule, we expand the derivative $\\frac{\\partial J}{\\partial w_1}$ as follows:\n",
    "\n",
    "$$ \n",
    "    \\frac{\\partial J}{\\partial w_1} = \\frac{\\partial J}{\\partial \\hat{y}} \\cdot \\frac{\\partial \\hat{y}}{\\partial z_2} \\cdot \\frac{\\partial z_2}{\\partial a_1} \\cdot \\frac{\\partial a_1}{\\partial z_1} \\cdot \\frac{\\partial z_1}{\\partial w_1}.  \n",
    "$$\n",
    "\n",
    "Now, we compute each term individually.\n",
    "\n",
    "---\n",
    "\n",
    "## Computing Individual Gradients\n",
    "\n",
    "### Gradient of Loss with respect to $\\hat{y}$\n",
    "Assuming we use mean squared error (MSE) as the loss function:\n",
    "\n",
    "$$\n",
    "    J = \\frac{1}{2} (\\hat{y} - y)^2.\n",
    "$$\n",
    "\n",
    "Taking the derivative with respect to $\\hat{y}$:\n",
    "\n",
    "$$\n",
    "    \\frac{\\partial J}{\\partial \\hat{y}} = (\\hat{y} - y).\n",
    "$$\n",
    "\n",
    "---\n",
    "\n",
    "### Gradient of $\\hat{y}$ with respect to $z_2$\n",
    "Since $\\hat{y} = \\sigma(z_2)$ and the derivative of the sigmoid function is:\n",
    "\n",
    "$$\n",
    "    \\frac{d\\sigma}{dz} = \\sigma(z)(1 - \\sigma(z)),\n",
    "$$\n",
    "\n",
    "we get:\n",
    "\n",
    "$$\n",
    "    \\frac{\\partial \\hat{y}}{\\partial z_2} = \\hat{y} (1 - \\hat{y}).\n",
    "$$\n",
    "\n",
    "---\n",
    "\n",
    "### Gradient of $z_2$ with respect to $a_1$\n",
    "Since $z_2 = w_2 a_1$,\n",
    "\n",
    "$$\n",
    "    \\frac{\\partial z_2}{\\partial a_1} = w_2.\n",
    "$$\n",
    "\n",
    "---\n",
    "\n",
    "### Gradient of $a_1$ with respect to $z_1$\n",
    "Since $a_1 = \\sigma(z_1)$, its derivative is:\n",
    "\n",
    "$$\n",
    "    \\frac{\\partial a_1}{\\partial z_1} = a_1 (1 - a_1).\n",
    "$$\n",
    "\n",
    "---\n",
    "\n",
    "### Gradient of $z_1$ with respect to $w_1$\n",
    "Since $z_1 = w_1 x_1$,\n",
    "$$\n",
    "    \\frac{\\partial z_1}{\\partial w_1} = x_1.\n",
    "$$\n",
    "\n",
    "---\n",
    "\n",
    "## Final Expression for $\\frac{\\partial J}{\\partial w_1}$\n",
    "Substituting all the computed gradients into our chain rule equation, we obtain:\n",
    "\n",
    "$$\n",
    "    \\frac{\\partial J}{\\partial w_1} = (\\hat{y} - y) \\cdot \\hat{y} (1 - \\hat{y}) \\cdot w_2 \\cdot a_1 (1 - a_1) \\cdot x_1.\n",
    "$$\n",
    "\n",
    "This expression gives the gradient of the loss function with respect to $w_1$, which is required for updating the weight in gradient descent.\n",
    "\n",
    "---\n",
    "\n",
    "### Conclusion\n",
    "This step-by-step derivation shows how backpropagation computes the gradient $\\frac{\\partial J}{\\partial w_1}$, which is used in training neural networks. "
   ]
  },
  {
   "cell_type": "markdown",
   "metadata": {},
   "source": [
    "## TP1 \n"
   ]
  },
  {
   "cell_type": "code",
   "execution_count": 20,
   "metadata": {},
   "outputs": [],
   "source": [
    "# importing libraries\n",
    "import numpy as np\n",
    "import matplotlib.pyplot as plt\n",
    "from tensorflow.keras.datasets import mnist\n",
    "from tensorflow.keras.utils import to_categorical"
   ]
  },
  {
   "cell_type": "markdown",
   "metadata": {},
   "source": [
    "#### 1- the function init params"
   ]
  },
  {
   "cell_type": "code",
   "execution_count": null,
   "metadata": {},
   "outputs": [],
   "source": [
    "\n",
    "def init_params(nx, nh, ny):\n",
    "    params = {\n",
    "        \"W1\": np.random.normal(0, 0.3, (nh, nx)),\n",
    "        \"b1\": np.zeros((nh, 1)),\n",
    "        \"W2\": np.random.normal(0, 0.3, (ny, nh)),\n",
    "        \"b2\": np.zeros((ny, 1))\n",
    "    }\n",
    "    return params"
   ]
  },
  {
   "cell_type": "code",
   "execution_count": 22,
   "metadata": {},
   "outputs": [],
   "source": [
    "def tanh(x):\n",
    "    return np.tanh(x)\n"
   ]
  },
  {
   "cell_type": "code",
   "execution_count": 23,
   "metadata": {},
   "outputs": [],
   "source": [
    "def softmax(x):\n",
    "    exp_x = np.exp(x - np.max(x, axis=0, keepdims=True))\n",
    "    return exp_x / np.sum(exp_x, axis=0, keepdims=True)"
   ]
  },
  {
   "cell_type": "markdown",
   "metadata": {},
   "source": [
    "#### 2-  the function forward(params, X)"
   ]
  },
  {
   "cell_type": "code",
   "execution_count": null,
   "metadata": {},
   "outputs": [],
   "source": [
    " \n",
    "def forward(params, X):\n",
    "    W1, b1, W2, b2 = params[\"W1\"], params[\"b1\"], params[\"W2\"], params[\"b2\"]\n",
    "    Z1 = W1 @ X + b1\n",
    "    A1 = tanh(Z1)\n",
    "    Z2 = W2 @ A1 + b2\n",
    "    A2 = softmax(Z2)\n",
    "    return A2, {\"Z1\": Z1, \"A1\": A1, \"Z2\": Z2, \"A2\": A2}"
   ]
  },
  {
   "cell_type": "markdown",
   "metadata": {},
   "source": [
    "#### 3-  the function loss_accuracy(Yhat, Y)"
   ]
  },
  {
   "cell_type": "code",
   "execution_count": null,
   "metadata": {},
   "outputs": [],
   "source": [
    "\n",
    "def loss_accuracy(Yhat, Y):\n",
    "    m = Y.shape[1]\n",
    "    loss = -np.sum(Y * np.log(Yhat + 1e-8)) / m\n",
    "    accuracy = np.mean(np.argmax(Yhat, axis=0) == np.argmax(Y, axis=0))\n",
    "    return loss, accuracy"
   ]
  },
  {
   "cell_type": "markdown",
   "metadata": {},
   "source": [
    "#### 4-  the function backward(x,params, outputs, Y)"
   ]
  },
  {
   "cell_type": "code",
   "execution_count": null,
   "metadata": {},
   "outputs": [],
   "source": [
    "\n",
    "def backward(X, Y, params, outputs):\n",
    "    m = X.shape[1]\n",
    "    A1, A2 = outputs[\"A1\"], outputs[\"A2\"]\n",
    "    W2 = params[\"W2\"]\n",
    "    \n",
    "    dZ2 = A2 - Y\n",
    "    dW2 = (dZ2 @ A1.T) / m\n",
    "    db2 = np.sum(dZ2, axis=1, keepdims=True) / m\n",
    "    \n",
    "    dA1 = W2.T @ dZ2\n",
    "    dZ1 = dA1 * (1 - np.power(A1, 2))\n",
    "    dW1 = (dZ1 @ X.T) / m\n",
    "    db1 = np.sum(dZ1, axis=1, keepdims=True) / m\n",
    "    \n",
    "    grads = {\"dW1\": dW1, \"db1\": db1, \"dW2\": dW2, \"db2\": db2}\n",
    "    return grads"
   ]
  },
  {
   "cell_type": "markdown",
   "metadata": {},
   "source": [
    "#### 5- the function sgd(params, grads, eta)"
   ]
  },
  {
   "cell_type": "code",
   "execution_count": null,
   "metadata": {},
   "outputs": [],
   "source": [
    "\n",
    "def sgd(params, grads, eta):\n",
    "    for key in params:\n",
    "        params[key] -= eta * grads[\"d\" + key]"
   ]
  },
  {
   "cell_type": "markdown",
   "metadata": {},
   "source": [
    "#### 6-7-  the training steps  and training the MLP \n"
   ]
  },
  {
   "cell_type": "code",
   "execution_count": null,
   "metadata": {},
   "outputs": [
    {
     "name": "stdout",
     "output_type": "stream",
     "text": [
      "Epoch 1/10, Loss: 0.2815, Accuracy: 0.9181\n",
      "Epoch 2/10, Loss: 0.2219, Accuracy: 0.9358\n",
      "Epoch 3/10, Loss: 0.1966, Accuracy: 0.9425\n",
      "Epoch 4/10, Loss: 0.1762, Accuracy: 0.9471\n",
      "Epoch 5/10, Loss: 0.1655, Accuracy: 0.9513\n",
      "Epoch 6/10, Loss: 0.1541, Accuracy: 0.9543\n",
      "Epoch 7/10, Loss: 0.1472, Accuracy: 0.9549\n",
      "Epoch 8/10, Loss: 0.1433, Accuracy: 0.9559\n",
      "Epoch 9/10, Loss: 0.1349, Accuracy: 0.9579\n",
      "Epoch 10/10, Loss: 0.1323, Accuracy: 0.9600\n"
     ]
    },
    {
     "data": {
      "image/png": "[encoded data removed]",
      "text/plain": [
       "<Figure size 1000x400 with 2 Axes>"
      ]
     },
     "metadata": {},
     "output_type": "display_data"
    }
   ],
   "source": [
    "def train_mlp(nx, nh, ny, eta, batch_size, epochs):\n",
    "    (X_train, Y_train), (X_test, Y_test) = mnist.load_data()\n",
    "    X_train, X_test = X_train.reshape(-1, nx).T / 255.0, X_test.reshape(-1, nx).T / 255.0\n",
    "    Y_train, Y_test = to_categorical(Y_train).T, to_categorical(Y_test).T\n",
    "    \n",
    "    params = init_params(nx, nh, ny)\n",
    "    losses, accuracies = [], []\n",
    "    \n",
    "    for epoch in range(epochs):\n",
    "        indices = np.random.permutation(X_train.shape[1])\n",
    "        X_train, Y_train = X_train[:, indices], Y_train[:, indices]\n",
    "        \n",
    "        for i in range(0, X_train.shape[1], batch_size):\n",
    "            X_batch, Y_batch = X_train[:, i:i+batch_size], Y_train[:, i:i+batch_size]\n",
    "            Yhat, outputs = forward(params, X_batch)\n",
    "            loss, acc = loss_accuracy(Yhat, Y_batch)\n",
    "            grads = backward(X_batch, Y_batch, params, outputs)\n",
    "            sgd(params, grads, eta)\n",
    "        \n",
    "        Yhat_test, _ = forward(params, X_test)\n",
    "        loss, acc = loss_accuracy(Yhat_test, Y_test)\n",
    "        losses.append(loss)\n",
    "        accuracies.append(acc)\n",
    "        print(f\"Epoch {epoch+1}/{epochs}, Loss: {loss:.4f}, Accuracy: {acc:.4f}\")\n",
    "    plt.figure(figsize=(10, 4))\n",
    "    plt.subplot(1, 2, 1)\n",
    "    plt.plot(losses, label='Loss')\n",
    "    plt.title('Loss Over Epochs')\n",
    "    plt.legend()\n",
    "    \n",
    "    plt.subplot(1, 2, 2)\n",
    "    plt.plot(accuracies, label='Accuracy')\n",
    "    plt.title('Accuracy Over Epochs')\n",
    "    plt.legend()\n",
    "    \n",
    "    plt.show()\n",
    "    return params\n",
    "\n",
    "# Train the network\n",
    "params = train_mlp(nx=784, nh=128, ny=10, eta=0.1, batch_size=50, epochs=10)\n"
   ]
  }
 ],
 "metadata": {
  "kernelspec": {
   "display_name": "base",
   "language": "python",
   "name": "python3"
  },
  "language_info": {
   "codemirror_mode": {
    "name": "ipython",
    "version": 3
   },
   "file_extension": ".py",
   "mimetype": "text/x-python",
   "name": "python",
   "nbconvert_exporter": "python",
   "pygments_lexer": "ipython3",
   "version": "3.12.3"
  }
 },
 "nbformat": 4,
 "nbformat_minor": 2
}
